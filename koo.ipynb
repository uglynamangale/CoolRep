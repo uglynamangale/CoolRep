{
 "cells": [
  {
   "cell_type": "code",
   "execution_count": null,
   "id": "19ef79ed-85bd-4dc5-a698-5b2b6d1812aa",
   "metadata": {},
   "outputs": [],
   "source": []
  }
 ],
 "metadata": {
  "kernelspec": {
   "display_name": "",
   "name": ""
  },
  "language_info": {
   "name": ""
  }
 },
 "nbformat": 4,
 "nbformat_minor": 5
}
